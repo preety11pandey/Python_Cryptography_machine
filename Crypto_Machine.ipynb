{
 "cells": [
  {
   "cell_type": "code",
   "execution_count": 2,
   "id": "70b234ae",
   "metadata": {},
   "outputs": [
    {
     "name": "stdout",
     "output_type": "stream",
     "text": [
      "Enter your secret message: Gdx\n",
      "Crypto Mode : Encode(E) OR Decode(D)D\n",
      "Hey\n"
     ]
    }
   ],
   "source": [
    "def machine():\n",
    "    # creating key strings\n",
    "    keys = 'abcdefghijklmnopqrstuvwxyz !'\n",
    "    # auto generating the vaules of strings\n",
    "    # value will be generted by taking last to first\n",
    "    # concatinated with the rest of the string\n",
    "    values = keys[-1] + keys[0:-1]\n",
    "    # print(keys)\n",
    "    # print(values)\n",
    "\n",
    "    # creating two dictionaries\n",
    "    encrytDict = dict(zip(keys, values))\n",
    "    decryptDict = dict(zip(values, keys))\n",
    "\n",
    "    # user input\n",
    "    message = input(\"Enter your secret message: \")\n",
    "    mode = input(\"Crypto Mode : Encode(E) OR Decode(D)\")\n",
    "\n",
    "    #encode and decode\n",
    "    if mode.upper() == 'E':\n",
    "        newMessage = ''.join([encrytDict[letter]\n",
    "                              for letter in message.lower()])\n",
    "    elif mode.upper() == 'D':\n",
    "        newMessage = ''.join([decryptDict[letter]\n",
    "                              for letter in message.lower()])\n",
    "    else:\n",
    "        print(\"Please try again, wrong choice entered\")\n",
    "\n",
    "    return newMessage.capitalize()\n",
    "\n",
    "\n",
    "print(machine())"
   ]
  },
  {
   "cell_type": "code",
   "execution_count": null,
   "id": "f42c9a11",
   "metadata": {},
   "outputs": [],
   "source": []
  }
 ],
 "metadata": {
  "kernelspec": {
   "display_name": "Python 3 (ipykernel)",
   "language": "python",
   "name": "python3"
  },
  "language_info": {
   "codemirror_mode": {
    "name": "ipython",
    "version": 3
   },
   "file_extension": ".py",
   "mimetype": "text/x-python",
   "name": "python",
   "nbconvert_exporter": "python",
   "pygments_lexer": "ipython3",
   "version": "3.10.9"
  }
 },
 "nbformat": 4,
 "nbformat_minor": 5
}
